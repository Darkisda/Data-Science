{
 "metadata": {
  "language_info": {
   "codemirror_mode": {
    "name": "ipython",
    "version": 3
   },
   "file_extension": ".py",
   "mimetype": "text/x-python",
   "name": "python",
   "nbconvert_exporter": "python",
   "pygments_lexer": "ipython3",
   "version": "3.8.5-final"
  },
  "orig_nbformat": 2,
  "kernelspec": {
   "name": "python3",
   "display_name": "Python 3",
   "language": "python"
  }
 },
 "nbformat": 4,
 "nbformat_minor": 2,
 "cells": [
  {
   "cell_type": "code",
   "execution_count": 50,
   "metadata": {
    "tags": []
   },
   "outputs": [
    {
     "output_type": "stream",
     "name": "stdout",
     "text": [
      "03\n05\n07\n09\n17\n32\n"
     ]
    }
   ],
   "source": [
    "from selenium import webdriver\n",
    "from pymongo import MongoClient\n",
    "from bs4 import BeautifulSoup as soup\n",
    "\n",
    "client = MongoClient(\"localhost:27017\")\n",
    "db = client.megasena\n",
    "\n",
    "def findConcursoMegaSena(concurso):\n",
    "    options = webdriver.ChromeOptions()\n",
    "    options.add_argument('headless')\n",
    "    options.add_argument('window-size=1920x1080')\n",
    "    options.add_argument('ignore-certificate-errors')\n",
    "    driver = webdriver.Chrome(options = options )\n",
    "    url = 'https://www.loteriaseresultados.com.br/index.php/megasena/concurso/' + str(concurso)\n",
    "    driver.get(url)\n",
    "    try:\n",
    "        body = driver.find_element_by_tag_name('body')\n",
    "        html = body.get_attribute('innerHTML')\n",
    "        soupPage = soup(html, 'html5lib')\n",
    "        spanList = soupPage.findAll('span', class_='white--text font-weight-bold')\n",
    "        tdCenterList = soupPage.findAll('td', class_='text-center')\n",
    "        tdRightList = soupPage.findAll('td', class_='text-right')\n",
    "        dataList = []\n",
    "\n",
    "        for n in range(6):\n",
    "            print(spanList[n].text)\n",
    "            dataList.append(spanList[n].text)\n",
    "            \n",
    "        db.concursos.insert_one({\n",
    "            str(concurso): dataList,\n",
    "            'SENA': {'Resultado': tdCenterList[1].text, 'Prêmio': tdRightList[0].text},\n",
    "            'QUINA': {'Resultado': tdCenterList[3].text, 'Prêmio': tdRightList[1].text},\n",
    "            'QUADRA': {'Resultado': tdCenterList[5].text, 'Prêmio': tdRightList[2].text}\n",
    "        })\n",
    "    \n",
    "    except:\n",
    "        print('criterio nao encontrado')\n",
    "    \n",
    "    driver.close()\n",
    "\n",
    "findConcursoMegaSena(977)"
   ]
  },
  {
   "cell_type": "code",
   "execution_count": null,
   "metadata": {},
   "outputs": [],
   "source": []
  }
 ]
}